{
 "cells": [
  {
   "cell_type": "code",
   "execution_count": null,
   "id": "67e8c558-32b7-4be1-82d2-e7058a7ea710",
   "metadata": {},
   "outputs": [],
   "source": [
    "import pandas as pd\n",
    "import seaborn as sns\n",
    "import matplotlib.pyplot as plt\n",
    "#open csv 1\n",
    "df = pd.read_csv('https://drive.google.com/uc?export=download&id=1UG3Q_eNkCIyEdUbK-0sqI9orROzUhDIv', sep=\",\", engine=\"python\")  \n",
    "print(df.head())"
   ]
  },
  {
   "cell_type": "code",
   "execution_count": null,
   "id": "21c84cbd-18d9-41cc-9214-d2b33a124f39",
   "metadata": {},
   "outputs": [],
   "source": [
    "#open csv 2\n",
    "df_2 = pd.read_csv('https://drive.google.com/uc?export=download&id=18-OfKVWIhRkIK2VNoF1w0cW2ZJeodn-6', sep=\",\", engine=\"python\")  \n",
    "print(df_2.head())"
   ]
  },
  {
   "cell_type": "code",
   "execution_count": null,
   "id": "1680f757-17cc-4a34-b02b-15dea2a623aa",
   "metadata": {},
   "outputs": [],
   "source": [
    "# Concatanate both DFs\n",
    "df = pd.concat([df, df_2], axis=0, ignore_index=True)\n",
    "\n",
    "df.head(20)"
   ]
  },
  {
   "cell_type": "code",
   "execution_count": null,
   "id": "df6983bc-c695-4b97-a76a-520fd565ddd9",
   "metadata": {},
   "outputs": [],
   "source": [
    "df.shape"
   ]
  },
  {
   "cell_type": "code",
   "execution_count": null,
   "id": "34cfedd1-b5e3-4919-a2f6-86a9b4b14794",
   "metadata": {},
   "outputs": [],
   "source": [
    "df.dtypes"
   ]
  },
  {
   "cell_type": "code",
   "execution_count": null,
   "id": "1bcccf7b-e3e1-4a60-83b8-39a05c327581",
   "metadata": {},
   "outputs": [],
   "source": [
    "df.isnull().sum().sort_values(ascending=False)"
   ]
  },
  {
   "cell_type": "code",
   "execution_count": null,
   "id": "3722e0ff-f3db-4cd3-9945-f96ad9b83f0c",
   "metadata": {},
   "outputs": [],
   "source": [
    "df['process_step'].value_counts()\t"
   ]
  },
  {
   "cell_type": "code",
   "execution_count": null,
   "id": "0e955c0d-97ee-4c8b-aadb-d875145fcdae",
   "metadata": {},
   "outputs": [],
   "source": [
    "df_2 = pd.read_csv('https://drive.google.com/uc?export=download&id=1iKkd732EWbYFhLckqPr0xZIpJqUnRG9v', sep=\",\", engine=\"python\")  "
   ]
  },
  {
   "cell_type": "code",
   "execution_count": null,
   "id": "d46c066c-e7a7-4693-b57c-b826915160fa",
   "metadata": {},
   "outputs": [],
   "source": [
    "df_2.head()"
   ]
  },
  {
   "cell_type": "code",
   "execution_count": null,
   "id": "28ed1c42-50c2-4290-a9f5-3f522d9e89fa",
   "metadata": {},
   "outputs": [],
   "source": [
    "df_2.isnull().sum().sort_values(ascending=False)"
   ]
  },
  {
   "cell_type": "code",
   "execution_count": null,
   "id": "4e57ea79-4961-4067-a2b3-6c869a22559a",
   "metadata": {},
   "outputs": [],
   "source": [
    "# Display rows where any column contains null values\n",
    "rows_with_nulls = df_2[df_2.isnull().any(axis=1)]\n",
    "\n",
    "print(rows_with_nulls)\n"
   ]
  },
  {
   "cell_type": "code",
   "execution_count": null,
   "id": "926b53e8-52ac-47b2-b528-7bd1eca726a7",
   "metadata": {},
   "outputs": [],
   "source": [
    "#drop rows with null values\n",
    "\n",
    "df_2 = df_2.dropna()"
   ]
  },
  {
   "cell_type": "code",
   "execution_count": null,
   "id": "900001e1-7fa8-4769-a04c-93b4686e6790",
   "metadata": {},
   "outputs": [],
   "source": [
    "df_2.describe()"
   ]
  },
  {
   "cell_type": "code",
   "execution_count": null,
   "id": "ae3bc2dc-3f1c-49d1-89ea-137628bdd618",
   "metadata": {},
   "outputs": [],
   "source": [
    "df_2.shape"
   ]
  },
  {
   "cell_type": "code",
   "execution_count": null,
   "id": "fe9acd94-613c-457d-848f-ece1ed1adb58",
   "metadata": {},
   "outputs": [],
   "source": [
    "df_2.rename(columns={'bal': 'balance'}, inplace=True)"
   ]
  },
  {
   "cell_type": "code",
   "execution_count": null,
   "id": "8aad5471-b023-452a-96ea-2e816e7240a4",
   "metadata": {},
   "outputs": [],
   "source": [
    "df_2.head"
   ]
  },
  {
   "cell_type": "code",
   "execution_count": null,
   "id": "9ac96cfb-1c22-47ff-a281-83df1372b904",
   "metadata": {},
   "outputs": [],
   "source": [
    "df_3 = pd.read_csv('https://drive.google.com/uc?export=download&id=1agh9FapkYsiydp-__dTdJmfV3Zep3O4r', sep=\",\", engine=\"python\")  "
   ]
  },
  {
   "cell_type": "code",
   "execution_count": null,
   "id": "bfeeee50-0501-4274-806a-2b0b6e4ade5f",
   "metadata": {},
   "outputs": [],
   "source": [
    "df_3.head()"
   ]
  },
  {
   "cell_type": "code",
   "execution_count": null,
   "id": "f3e42ace-608b-4b7c-9f87-19b793853670",
   "metadata": {},
   "outputs": [],
   "source": [
    "df_2 = pd.merge(df_2, df_3, how='left', on='client_id')"
   ]
  },
  {
   "cell_type": "code",
   "execution_count": null,
   "id": "8c2558c4-5d60-4fdf-b037-a8d83a879fbb",
   "metadata": {},
   "outputs": [],
   "source": [
    "df_2.head(50)"
   ]
  },
  {
   "cell_type": "code",
   "execution_count": null,
   "id": "874a983c-0007-484f-98ed-c99e38ab89ad",
   "metadata": {},
   "outputs": [],
   "source": [
    "df_2.isnull().sum().sort_values(ascending=False)\n"
   ]
  },
  {
   "cell_type": "code",
   "execution_count": null,
   "id": "28b3f92f-3423-4311-b5a8-ab94a5f5651d",
   "metadata": {},
   "outputs": [],
   "source": [
    "df_variation_value = df_2.dropna()"
   ]
  },
  {
   "cell_type": "code",
   "execution_count": null,
   "id": "161c36f8-11c9-4774-9be6-18aaa116c85d",
   "metadata": {},
   "outputs": [],
   "source": [
    "df_variation_value.shape"
   ]
  },
  {
   "cell_type": "code",
   "execution_count": null,
   "id": "d8455632-b529-4cb4-ac34-1a2a129f98a6",
   "metadata": {},
   "outputs": [],
   "source": [
    "\n",
    "df_2.head()"
   ]
  },
  {
   "cell_type": "code",
   "execution_count": null,
   "id": "238943e5-2932-4fe8-8950-e0c8cdc3f195",
   "metadata": {},
   "outputs": [],
   "source": [
    "df_2.describe()\n"
   ]
  },
  {
   "cell_type": "code",
   "execution_count": null,
   "id": "4379c697-65c4-40de-818f-f1bb2046eb96",
   "metadata": {},
   "outputs": [],
   "source": [
    "df_2.hist(figsize=(15, 20), bins=60, xlabelsize=10, ylabelsize=10);"
   ]
  },
  {
   "cell_type": "code",
   "execution_count": null,
   "id": "dd759692-8a73-4b47-83cd-f4ef451c8b2c",
   "metadata": {},
   "outputs": [],
   "source": [
    "proportion_table = df_2['balance'].value_counts(normalize=True)"
   ]
  },
  {
   "cell_type": "code",
   "execution_count": null,
   "id": "66138107-fe37-46b7-b7cb-5100560ae729",
   "metadata": {},
   "outputs": [],
   "source": [
    "sns.boxplot(data = df_variation_value['balance'], color=\"lightblue\")\n",
    "plt.ylim(0, 10000000)"
   ]
  },
  {
   "cell_type": "code",
   "execution_count": null,
   "id": "b28c8c13-3213-4964-a012-6be649ab6c3a",
   "metadata": {},
   "outputs": [],
   "source": [
    "sns.histplot(df_variation_value['balance'], kde=True, color=\"salmon\")\n",
    "plt.xlim(0, 500000)"
   ]
  },
  {
   "cell_type": "code",
   "execution_count": null,
   "id": "0f013145-e2df-404e-b4da-3027306ef3a6",
   "metadata": {},
   "outputs": [],
   "source": [
    "df_variation_value.hist(figsize=(15, 20), bins=60, xlabelsize=10, ylabelsize=10);"
   ]
  },
  {
   "cell_type": "code",
   "execution_count": null,
   "id": "14a66455-9f6e-4eed-8ffb-9d2239b8a2b7",
   "metadata": {},
   "outputs": [],
   "source": [
    "df_variation_value.shape"
   ]
  },
  {
   "cell_type": "code",
   "execution_count": null,
   "id": "29b5537e-49d5-4cf7-ab4e-5e11b1264fa2",
   "metadata": {},
   "outputs": [],
   "source": [
    "df_test = df_variation_value[df_variation_value['Variation'] == 'Test']\n",
    "df_control = df_variation_value[df_variation_value['Variation'] == 'Control']\n",
    "df_test.describe()"
   ]
  },
  {
   "cell_type": "code",
   "execution_count": null,
   "id": "2b76d475-c6b3-4a0f-b277-c0ac5ac22557",
   "metadata": {},
   "outputs": [],
   "source": [
    "df_test.hist(figsize=(15, 20), bins=60, xlabelsize=10, ylabelsize=10);"
   ]
  },
  {
   "cell_type": "code",
   "execution_count": null,
   "id": "08962d59-c80e-4eea-9a67-f997f8f087d4",
   "metadata": {},
   "outputs": [],
   "source": [
    "df_control.describe()"
   ]
  },
  {
   "cell_type": "code",
   "execution_count": null,
   "id": "8383f721-ec59-425a-8fcc-7975dc86f4c9",
   "metadata": {},
   "outputs": [],
   "source": [
    "df_control.hist(figsize=(15, 20), bins=60, xlabelsize=10, ylabelsize=10);"
   ]
  },
  {
   "cell_type": "code",
   "execution_count": null,
   "id": "367ae517-11da-4c80-a006-12915a2b1628",
   "metadata": {},
   "outputs": [],
   "source": [
    "sns.histplot(df_test['balance'], kde=True, color=\"salmon\")\n",
    "plt.xlim(0, 500000)\n"
   ]
  },
  {
   "cell_type": "code",
   "execution_count": null,
   "id": "faa6891c-6f9a-4827-b6ce-90c9edb771d9",
   "metadata": {},
   "outputs": [],
   "source": [
    "sns.histplot(df_control['balance'], kde=True, color=\"salmon\")\n",
    "plt.xlim(0, 500000)"
   ]
  },
  {
   "cell_type": "code",
   "execution_count": null,
   "id": "927d131e-45f8-4926-ad99-d0d14a6428ac",
   "metadata": {},
   "outputs": [],
   "source": [
    "df_test['balance'].mode(), df_control['balance'].mode()"
   ]
  },
  {
   "cell_type": "code",
   "execution_count": null,
   "id": "ee898a1f-5077-4944-8069-1df9b865181f",
   "metadata": {},
   "outputs": [],
   "source": [
    "df_test[\"gendr\"].value_counts()"
   ]
  },
  {
   "cell_type": "code",
   "execution_count": null,
   "id": "87cfa57d-663f-4d60-8375-31d4b4b9e1c3",
   "metadata": {},
   "outputs": [],
   "source": [
    "df_control[\"gendr\"].value_counts()"
   ]
  },
  {
   "cell_type": "code",
   "execution_count": null,
   "id": "ff3eef5e-91f1-4f8b-9556-d735c788ac0b",
   "metadata": {},
   "outputs": [],
   "source": [
    "df_final = pd.merge(df_variation_value, df, how='left', on='client_id')\n",
    "\n",
    "df_final.isnull().sum()"
   ]
  },
  {
   "cell_type": "code",
   "execution_count": null,
   "id": "e8f31a3d-ff77-4424-bd7a-da2c9b64ae1b",
   "metadata": {},
   "outputs": [],
   "source": [
    "df_final.head()\n",
    "df_final.shape"
   ]
  },
  {
   "cell_type": "code",
   "execution_count": null,
   "id": "c23a0a66-d3a8-426c-ba8d-3fe5294f54b4",
   "metadata": {},
   "outputs": [],
   "source": [
    "df_final = df_final.drop_duplicates()\n",
    "df_final"
   ]
  },
  {
   "cell_type": "code",
   "execution_count": null,
   "id": "8710920b-be37-46af-b76e-8fe22934bd97",
   "metadata": {},
   "outputs": [],
   "source": [
    "df_final[\"client_id\"].value_counts()"
   ]
  }
 ],
 "metadata": {
  "kernelspec": {
   "display_name": "Python 3 (ipykernel)",
   "language": "python",
   "name": "python3"
  },
  "language_info": {
   "codemirror_mode": {
    "name": "ipython",
    "version": 3
   },
   "file_extension": ".py",
   "mimetype": "text/x-python",
   "name": "python",
   "nbconvert_exporter": "python",
   "pygments_lexer": "ipython3",
   "version": "3.12.4"
  }
 },
 "nbformat": 4,
 "nbformat_minor": 5
}
