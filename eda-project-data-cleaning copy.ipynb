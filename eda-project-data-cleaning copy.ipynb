{
 "cells": [
  {
   "cell_type": "code",
   "execution_count": null,
   "id": "67e8c558-32b7-4be1-82d2-e7058a7ea710",
   "metadata": {},
   "outputs": [],
   "source": [
    "import pandas as pd\n",
    "import seaborn as sns\n",
    "#open csv 1\n",
    "df = pd.read_csv('/Users/annapisarek/Downloads/df_final_web_data_pt_1.csv', sep=\",\", engine=\"python\")  \n",
    "print(df.head())\n",
    "import matplotlib.pyplot as plt\n",
    "import numpy as np"
   ]
  },
  {
   "cell_type": "code",
   "execution_count": null,
   "id": "21c84cbd-18d9-41cc-9214-d2b33a124f39",
   "metadata": {},
   "outputs": [],
   "source": [
    "#open csv 2\n",
    "df_2 = pd.read_csv('/Users/annapisarek/Downloads/df_final_web_data_pt_2.csv', sep=\",\", engine=\"python\")  \n",
    "print(df_2.head())"
   ]
  },
  {
   "cell_type": "code",
   "execution_count": null,
   "id": "1680f757-17cc-4a34-b02b-15dea2a623aa",
   "metadata": {},
   "outputs": [],
   "source": [
    "# Concatanate both DFs\n",
    "df = pd.concat([df, df_2], axis=0, ignore_index=True)\n",
    "\n",
    "df.head(50)"
   ]
  },
  {
   "cell_type": "code",
   "execution_count": null,
   "id": "df6983bc-c695-4b97-a76a-520fd565ddd9",
   "metadata": {},
   "outputs": [],
   "source": [
    "df.shape"
   ]
  },
  {
   "cell_type": "code",
   "execution_count": null,
   "id": "34cfedd1-b5e3-4919-a2f6-86a9b4b14794",
   "metadata": {},
   "outputs": [],
   "source": [
    "df.dtypes"
   ]
  },
  {
   "cell_type": "code",
   "execution_count": null,
   "id": "1bcccf7b-e3e1-4a60-83b8-39a05c327581",
   "metadata": {},
   "outputs": [],
   "source": [
    "df.isnull().sum().sort_values(ascending=False)"
   ]
  },
  {
   "cell_type": "code",
   "execution_count": null,
   "id": "3722e0ff-f3db-4cd3-9945-f96ad9b83f0c",
   "metadata": {},
   "outputs": [],
   "source": [
    "df['process_step'].value_counts()\t"
   ]
  },
  {
   "cell_type": "code",
   "execution_count": null,
   "id": "0e955c0d-97ee-4c8b-aadb-d875145fcdae",
   "metadata": {},
   "outputs": [],
   "source": [
    "df_2 = pd.read_csv('/Users/annapisarek/Downloads/df_final_demo.csv', sep=\",\", engine=\"python\")  "
   ]
  },
  {
   "cell_type": "code",
   "execution_count": null,
   "id": "d46c066c-e7a7-4693-b57c-b826915160fa",
   "metadata": {},
   "outputs": [],
   "source": [
    "df_2.head()"
   ]
  },
  {
   "cell_type": "code",
   "execution_count": null,
   "id": "28ed1c42-50c2-4290-a9f5-3f522d9e89fa",
   "metadata": {},
   "outputs": [],
   "source": [
    "df_2.isnull().sum().sort_values(ascending=False)"
   ]
  },
  {
   "cell_type": "code",
   "execution_count": null,
   "id": "4e57ea79-4961-4067-a2b3-6c869a22559a",
   "metadata": {},
   "outputs": [],
   "source": [
    "# Display rows where any column contains null values\n",
    "rows_with_nulls = df_2[df_2.isnull().any(axis=1)]\n",
    "\n",
    "print(rows_with_nulls)\n"
   ]
  },
  {
   "cell_type": "code",
   "execution_count": null,
   "id": "926b53e8-52ac-47b2-b528-7bd1eca726a7",
   "metadata": {},
   "outputs": [],
   "source": [
    "#drop rows with null values\n",
    "\n",
    "df_2 = df_2.dropna()"
   ]
  },
  {
   "cell_type": "code",
   "execution_count": null,
   "id": "900001e1-7fa8-4769-a04c-93b4686e6790",
   "metadata": {},
   "outputs": [],
   "source": [
    "df_2.describe()"
   ]
  },
  {
   "cell_type": "code",
   "execution_count": null,
   "id": "ae3bc2dc-3f1c-49d1-89ea-137628bdd618",
   "metadata": {},
   "outputs": [],
   "source": [
    "df_2.shape"
   ]
  },
  {
   "cell_type": "code",
   "execution_count": null,
   "id": "d252302c-a5a8-4f99-9772-488518a0243f",
   "metadata": {},
   "outputs": [],
   "source": []
  },
  {
   "cell_type": "code",
   "execution_count": null,
   "id": "fe9acd94-613c-457d-848f-ece1ed1adb58",
   "metadata": {},
   "outputs": [],
   "source": [
    "df_2.rename(columns={'bal': 'balance'}, inplace=True)"
   ]
  },
  {
   "cell_type": "code",
   "execution_count": null,
   "id": "8aad5471-b023-452a-96ea-2e816e7240a4",
   "metadata": {},
   "outputs": [],
   "source": [
    "df_2.head"
   ]
  },
  {
   "cell_type": "code",
   "execution_count": null,
   "id": "9ac96cfb-1c22-47ff-a281-83df1372b904",
   "metadata": {},
   "outputs": [],
   "source": [
    "df_3 = pd.read_csv('/Users/annapisarek/Downloads/df_final_experiment_clients.csv', sep=\",\", engine=\"python\")  "
   ]
  },
  {
   "cell_type": "code",
   "execution_count": null,
   "id": "bfeeee50-0501-4274-806a-2b0b6e4ade5f",
   "metadata": {},
   "outputs": [],
   "source": [
    "df_3.head()"
   ]
  },
  {
   "cell_type": "code",
   "execution_count": null,
   "id": "f3e42ace-608b-4b7c-9f87-19b793853670",
   "metadata": {},
   "outputs": [],
   "source": [
    "df_2 = pd.merge(df_2, df_3, how='left', on='client_id')"
   ]
  },
  {
   "cell_type": "code",
   "execution_count": null,
   "id": "8c2558c4-5d60-4fdf-b037-a8d83a879fbb",
   "metadata": {},
   "outputs": [],
   "source": [
    "df_2.head(50)"
   ]
  },
  {
   "cell_type": "code",
   "execution_count": null,
   "id": "874a983c-0007-484f-98ed-c99e38ab89ad",
   "metadata": {},
   "outputs": [],
   "source": [
    "df_2.isnull().sum().sort_values(ascending=False)\n"
   ]
  },
  {
   "cell_type": "code",
   "execution_count": null,
   "id": "28b3f92f-3423-4311-b5a8-ab94a5f5651d",
   "metadata": {},
   "outputs": [],
   "source": [
    "df_variation_value = df_2.dropna()"
   ]
  },
  {
   "cell_type": "code",
   "execution_count": null,
   "id": "161c36f8-11c9-4774-9be6-18aaa116c85d",
   "metadata": {},
   "outputs": [],
   "source": [
    "df_variation_value.shape"
   ]
  },
  {
   "cell_type": "code",
   "execution_count": null,
   "id": "d8455632-b529-4cb4-ac34-1a2a129f98a6",
   "metadata": {},
   "outputs": [],
   "source": [
    "\n",
    "df_2.head()"
   ]
  },
  {
   "cell_type": "code",
   "execution_count": null,
   "id": "238943e5-2932-4fe8-8950-e0c8cdc3f195",
   "metadata": {},
   "outputs": [],
   "source": [
    "df_2.describe()\n"
   ]
  },
  {
   "cell_type": "code",
   "execution_count": null,
   "id": "4379c697-65c4-40de-818f-f1bb2046eb96",
   "metadata": {},
   "outputs": [],
   "source": [
    "df_2.hist(figsize=(15, 20), bins=60, xlabelsize=10, ylabelsize=10);"
   ]
  },
  {
   "cell_type": "code",
   "execution_count": null,
   "id": "dd759692-8a73-4b47-83cd-f4ef451c8b2c",
   "metadata": {},
   "outputs": [],
   "source": [
    "proportion_table = df_2['balance'].value_counts(normalize=True)"
   ]
  },
  {
   "cell_type": "code",
   "execution_count": null,
   "id": "c30f84f4-2748-4c80-87c5-f140930c141a",
   "metadata": {},
   "outputs": [],
   "source": [
    "sns.boxplot(data = df_2['balance'], color=\"lightblue\")"
   ]
  },
  {
   "cell_type": "code",
   "execution_count": null,
   "id": "00f36a75-8342-402a-a59c-be7cf4fae64e",
   "metadata": {},
   "outputs": [],
   "source": [
    "sns.boxplot(data = df_variation_value['balance'], color=\"lightblue\")"
   ]
  },
  {
   "cell_type": "code",
   "execution_count": null,
   "id": "0f013145-e2df-404e-b4da-3027306ef3a6",
   "metadata": {},
   "outputs": [],
   "source": [
    "df_variation_value.hist(figsize=(15, 20), bins=60, xlabelsize=10, ylabelsize=10);"
   ]
  }
 ],
 "metadata": {
  "kernelspec": {
   "display_name": "Python 3 (ipykernel)",
   "language": "python",
   "name": "python3"
  },
  "language_info": {
   "codemirror_mode": {
    "name": "ipython",
    "version": 3
   },
   "file_extension": ".py",
   "mimetype": "text/x-python",
   "name": "python",
   "nbconvert_exporter": "python",
   "pygments_lexer": "ipython3",
   "version": "3.11.7"
  }
 },
 "nbformat": 4,
 "nbformat_minor": 5
}
